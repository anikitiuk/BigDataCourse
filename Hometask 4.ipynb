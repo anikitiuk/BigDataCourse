{
 "cells": [
  {
   "cell_type": "code",
   "execution_count": 53,
   "metadata": {},
   "outputs": [],
   "source": [
    "class DoublyLinkedList:\n",
    "    # Конструктор класса\n",
    "    def __init__(self):\n",
    "        self.first = None\n",
    "        self.last = None\n",
    "        self.length = 0\n",
    "    \n",
    "    # Имплементация метода str()\n",
    "    def __str__(self):\n",
    "        output = 'DoublyLinkedList ['\n",
    "        if self.first != None:\n",
    "            current_node = self.first\n",
    "            output += '\\n ' + str(current_node)\n",
    "            \n",
    "            while current_node.next != None:\n",
    "                current_node = current_node.next\n",
    "                output += '\\n ' + str(current_node)\n",
    "        return output + ']'\n",
    "    \n",
    "    # Имплементация метода len()\n",
    "    def __len__(self):\n",
    "        return self.length\n",
    "    \n",
    "    # Добавление нового элемента в конец списка\n",
    "    def add(self, element):\n",
    "        self.length += 1\n",
    "        if self.first == None:\n",
    "            self.first = self.last = Node(element)\n",
    "        else:\n",
    "            self.last.next = self.last = Node(element, self.last)\n",
    "            \n",
    "    # Добавление нового элемента в начало списка\n",
    "    def push(self, element):\n",
    "        self.length += 1\n",
    "        if self.first == None:\n",
    "            self.first = self.last = Node(element)\n",
    "        else:\n",
    "            self.first.previous = self.first = Node(element, None, self.first)\n",
    "            \n",
    "    # Добавление нового элемента по индексу (add(index)) \n",
    "    def add_index(self, index, element):\n",
    "        if index >= self.length or index <= 0:\n",
    "            print(\"Индекс выходит за рамки списка\")\n",
    "        else:\n",
    "            self.length += 1\n",
    "            new = self.first\n",
    "            i = 1\n",
    "            while i <= index:\n",
    "                new = new.next\n",
    "                if i + 1 == index:\n",
    "                    newnext = new\n",
    "                    newprevious = new.previous\n",
    "                    new = Node(element, newprevious, newnext)\n",
    "                    new.next.previous = new\n",
    "                    new.previous.next = new\n",
    "                    print(\"Добавили\")\n",
    "                    break\n",
    "                i += 1\n",
    "        \n",
    "    # Удаление элемента с конца списка (remove()) \n",
    "    def remove(self):\n",
    "        if self.first == None:\n",
    "            print(\"Список пуст, нечего удалять\")\n",
    "        else:\n",
    "            self.length -= 1\n",
    "            self.last = self.last.previous\n",
    "            self.last.next = None\n",
    "            \n",
    "    # Удаление элемента с начала списка (pop()) \n",
    "    def pop(self):\n",
    "        if self.first == None:\n",
    "            print(\"Список пуст, нечего удалять\")\n",
    "        else: \n",
    "            self.length -= 1\n",
    "            self.first = self.first.next\n",
    "            self.first.previous = None\n",
    "            \n",
    "    # Удаление элемента по индексу (remove(index)) \n",
    "    def remove_index(self, index):\n",
    "        if index >= self.length or index <= 0:\n",
    "            print(\"Индекс выходит за рамки списка\")\n",
    "        else:\n",
    "            self.length -= 1\n",
    "            if index == 1:\n",
    "                self.first = self.first.next\n",
    "                self.first.previous = None\n",
    "            else: \n",
    "                removing = self.first\n",
    "                i = 1\n",
    "                while i <= index:\n",
    "                    removing = removing.next\n",
    "                    if i + 1 == index:\n",
    "                        removing.previous.next = removing.next\n",
    "                        removing.next.previous = removing.previous\n",
    "                        print(\"Удалили\")\n",
    "                        break\n",
    "                    i += 1\n",
    "    \n",
    "    # Проверка существования элемента в списке (contains(element_value))\n",
    "    def contains(self, element):\n",
    "        if self.first == None:\n",
    "            print(\"Список пуст, нечего удалять\")\n",
    "        else:\n",
    "            current = self.first\n",
    "            for i in range(self.length):\n",
    "                if current.value == element: \n",
    "                    print(\"Элемент содержится в списке\")\n",
    "                    return\n",
    "                elif current.next == None:\n",
    "                    print(\"Элемент не содержится в списке\")\n",
    "                    return\n",
    "                else:\n",
    "                    current = current.next"
   ]
  },
  {
   "cell_type": "code",
   "execution_count": 5,
   "metadata": {
    "collapsed": true
   },
   "outputs": [],
   "source": [
    "class Node:\n",
    "    __FORMAT = '[Value = {0}, Previous = {1}, Next = {2}]'\n",
    "    \n",
    "    # Конструктор класса\n",
    "    def __init__(self, value = None, previous = None, next = None):\n",
    "        self.value = value\n",
    "        self.previous = previous\n",
    "        self.next = next\n",
    "    \n",
    "    # Имплементация метода str()\n",
    "    def __str__(self):        \n",
    "        def link_value(link):\n",
    "            value = None\n",
    "            if link:\n",
    "                value = link.value\n",
    "            return value\n",
    "        \n",
    "        previous = link_value(self.previous)\n",
    "        next = link_value(self.next)\n",
    "        \n",
    "        return self.__FORMAT.format(self.value, previous, next)\n"
   ]
  },
  {
   "cell_type": "code",
   "execution_count": 55,
   "metadata": {},
   "outputs": [
    {
     "name": "stdout",
     "output_type": "stream",
     "text": [
      "Набор методов объекта DoublyLinkedList:\n",
      " ['__class__', '__delattr__', '__dict__', '__dir__', '__doc__', '__eq__', '__format__', '__ge__', '__getattribute__', '__gt__', '__hash__', '__init__', '__init_subclass__', '__le__', '__len__', '__lt__', '__module__', '__ne__', '__new__', '__reduce__', '__reduce_ex__', '__repr__', '__setattr__', '__sizeof__', '__str__', '__subclasshook__', '__weakref__', 'add', 'add_index', 'contains', 'pop', 'push', 'remove', 'remove_index']\n",
      "\n",
      "Набор методов объекта Node:\n",
      " ['_Node__FORMAT', '__class__', '__delattr__', '__dict__', '__dir__', '__doc__', '__eq__', '__format__', '__ge__', '__getattribute__', '__gt__', '__hash__', '__init__', '__init_subclass__', '__le__', '__lt__', '__module__', '__ne__', '__new__', '__reduce__', '__reduce_ex__', '__repr__', '__setattr__', '__sizeof__', '__str__', '__subclasshook__', '__weakref__']\n",
      "\n",
      "Тестовый список:\n",
      " DoublyLinkedList [\n",
      " [Value = 77, Previous = None, Next = 3]\n",
      " [Value = 3, Previous = 77, Next = 1]\n",
      " [Value = 1, Previous = 3, Next = 24]\n",
      " [Value = 24, Previous = 1, Next = -20]\n",
      " [Value = -20, Previous = 24, Next = 89]\n",
      " [Value = 89, Previous = -20, Next = None]]\n",
      "List length = 6\n",
      "Удалили\n",
      "Тестовый список:\n",
      " DoublyLinkedList [\n",
      " [Value = 77, Previous = None, Next = 3]\n",
      " [Value = 3, Previous = 77, Next = 24]\n",
      " [Value = 24, Previous = 3, Next = -20]\n",
      " [Value = -20, Previous = 24, Next = 89]\n",
      " [Value = 89, Previous = -20, Next = None]]\n"
     ]
    }
   ],
   "source": [
    "print(\"Набор методов объекта DoublyLinkedList:\\n\", dir(DoublyLinkedList))\n",
    "print()\n",
    "print(\"Набор методов объекта Node:\\n\", dir(Node))\n",
    "print()\n",
    "\n",
    "test_list = DoublyLinkedList()\n",
    "test_list.add(1)\n",
    "test_list.add(24)\n",
    "test_list.add(-20)\n",
    "test_list.push(3)\n",
    "test_list.add(89)\n",
    "test_list.push(77)\n",
    "print(\"Тестовый список:\\n %s\" % (test_list))\n",
    "print(\"List length = %i\" % (len(test_list)))\n",
    "test_list.remove_index(3)\n",
    "print(\"Тестовый список:\\n %s\" % (test_list))"
   ]
  },
  {
   "cell_type": "code",
   "execution_count": null,
   "metadata": {
    "collapsed": true
   },
   "outputs": [],
   "source": []
  },
  {
   "cell_type": "code",
   "execution_count": null,
   "metadata": {
    "collapsed": true
   },
   "outputs": [],
   "source": []
  },
  {
   "cell_type": "code",
   "execution_count": null,
   "metadata": {
    "collapsed": true
   },
   "outputs": [],
   "source": []
  },
  {
   "cell_type": "code",
   "execution_count": null,
   "metadata": {
    "collapsed": true
   },
   "outputs": [],
   "source": []
  },
  {
   "cell_type": "code",
   "execution_count": null,
   "metadata": {
    "collapsed": true
   },
   "outputs": [],
   "source": []
  },
  {
   "cell_type": "code",
   "execution_count": null,
   "metadata": {
    "collapsed": true
   },
   "outputs": [],
   "source": []
  }
 ],
 "metadata": {
  "kernelspec": {
   "display_name": "Python 3",
   "language": "python",
   "name": "python3"
  },
  "language_info": {
   "codemirror_mode": {
    "name": "ipython",
    "version": 3
   },
   "file_extension": ".py",
   "mimetype": "text/x-python",
   "name": "python",
   "nbconvert_exporter": "python",
   "pygments_lexer": "ipython3",
   "version": "3.6.2"
  }
 },
 "nbformat": 4,
 "nbformat_minor": 2
}
