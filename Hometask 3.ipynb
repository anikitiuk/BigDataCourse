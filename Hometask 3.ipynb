{
 "cells": [
  {
   "cell_type": "markdown",
   "metadata": {},
   "source": [
    "##### Bubble sort"
   ]
  },
  {
   "cell_type": "code",
   "execution_count": null,
   "metadata": {
    "collapsed": true
   },
   "outputs": [],
   "source": [
    "arr = [9, 3, 2, 5, 7, 1, 10, 4, 0]\n",
    "def bsort (ss):\n",
    "    for j in range(len(ss)):\n",
    "        for i in range(len(ss)-1):\n",
    "            if ss[i] > ss[i+1]:\n",
    "                ss[i], ss[i+1] = ss[i+1], ss[i]\n",
    "bsort(arr)\n",
    "print(arr)"
   ]
  },
  {
   "cell_type": "markdown",
   "metadata": {},
   "source": [
    "##### Insertion sort attempts"
   ]
  },
  {
   "cell_type": "code",
   "execution_count": 18,
   "metadata": {},
   "outputs": [
    {
     "name": "stdout",
     "output_type": "stream",
     "text": [
      "[9, 0, 0, 0, 0, 0, 0, 0, 0]\n",
      "[0, 0, 0, 0, 0, 0, 0, 0, 0]\n"
     ]
    }
   ],
   "source": [
    "arr = [9, 3, 2, 5, 7, 1, 10, 4, 0]\n",
    "arr2 = [0]*9\n",
    "arr2[0] = arr[0]\n",
    "print(arr2)\n",
    "def inssort (ss, sssorted):\n",
    "    for j in range(len(ss)):\n",
    "        for i in range(len(ss)-j-1):\n",
    "            if ss[j] > ss[j+i+1]:\n",
    "                for k in range(j):\n",
    "                    if sssorted[k] > ss[j+i+1]:\n",
    "                        sssorted[k] = ss[j+i+1]\n",
    "inssort(arr, arr2)\n",
    "print(arr2)"
   ]
  },
  {
   "cell_type": "code",
   "execution_count": 9,
   "metadata": {},
   "outputs": [
    {
     "name": "stdout",
     "output_type": "stream",
     "text": [
      "[9, 0, 0, 0, 0, 0, 0, 0, 0]\n",
      "9\n",
      "[0, 4, 0, 0, 0, 0, 0, 0, 0]\n"
     ]
    }
   ],
   "source": [
    "arr = [9, 3, 2, 5, 7, 1, 10, 4, 0]\n",
    "arr2 = [0]*9\n",
    "arr2[0] = arr[0]\n",
    "print(arr2)\n",
    "print(len(arr))\n",
    "def inssort (ss, sssorted):\n",
    "    i = 0\n",
    "    j = 0\n",
    "    while i < (len(ss) - 1):\n",
    "        while j < (len(ss) - 1):\n",
    "            if ss[i] != ss[j + 1]:\n",
    "                if ss[i] > ss[j + 1]:\n",
    "                    sssorted[i], sssorted[i + 1] = sssorted[i + 1], sssorted[i]\n",
    "                    sssorted[i] = ss[j + 1]\n",
    "            j += 1\n",
    "        i += 1\n",
    "inssort(arr, arr2)\n",
    "print(arr2)"
   ]
  },
  {
   "cell_type": "code",
   "execution_count": null,
   "metadata": {
    "collapsed": true
   },
   "outputs": [],
   "source": [
    "arr = [9, 3, 2, 5, 7, 1, 10, 4, 0]\n",
    "arr2 = [0]*9\n",
    "arr2[0] = arr[0]\n",
    "print(arr2)\n",
    "print(len(arr))\n",
    "def inssort (ss, sssorted):\n",
    "    i = 0 \n",
    "    j = 0\n",
    "    while i < len(ss):\n",
    "        while j+i < len(ss):\n",
    "            if ss[i] > ss[j]:\n",
    "                ss[i], ss[j] = ss[j], ss[i]\n",
    "                ss[]"
   ]
  },
  {
   "cell_type": "markdown",
   "metadata": {},
   "source": [
    "##### Insertion sort"
   ]
  },
  {
   "cell_type": "code",
   "execution_count": 12,
   "metadata": {},
   "outputs": [
    {
     "name": "stdout",
     "output_type": "stream",
     "text": [
      "[9, 3, 2, 5, 7, 1, 10, 4, 0]\n",
      "[0, 1, 2, 3, 4, 5, 7, 9, 10]\n"
     ]
    }
   ],
   "source": [
    "arr = [9, 3, 2, 5, 7, 1, 10, 4, 0]\n",
    "print(arr)\n",
    "def inssort(ss):\n",
    "    j = 1\n",
    "    while j < len(ss): \n",
    "        key = ss[j]\n",
    "        i = j - 1\n",
    "        while i > -1 and ss[i] > key: \n",
    "            ss[i + 1] = ss[i]\n",
    "            i -= 1\n",
    "        ss[i+1] = key\n",
    "        j += 1\n",
    "inssort(arr)\n",
    "print(arr)"
   ]
  },
  {
   "cell_type": "markdown",
   "metadata": {},
   "source": [
    "##### Quick sort var.1 (Doesn't work, recursion error: max recursion depth exceeded)"
   ]
  },
  {
   "cell_type": "code",
   "execution_count": 19,
   "metadata": {},
   "outputs": [
    {
     "ename": "RecursionError",
     "evalue": "maximum recursion depth exceeded",
     "output_type": "error",
     "traceback": [
      "\u001b[1;31m---------------------------------------------------------------------------\u001b[0m",
      "\u001b[1;31mRecursionError\u001b[0m                            Traceback (most recent call last)",
      "\u001b[1;32m<ipython-input-19-3d28a686c86f>\u001b[0m in \u001b[0;36m<module>\u001b[1;34m()\u001b[0m\n\u001b[0;32m     22\u001b[0m     \u001b[1;32mreturn\u001b[0m \u001b[1;33m(\u001b[0m\u001b[0mhi\u001b[0m\u001b[1;33m-\u001b[0m\u001b[0mlo\u001b[0m\u001b[1;33m/\u001b[0m\u001b[1;36m2\u001b[0m\u001b[1;33m)\u001b[0m\u001b[1;33m\u001b[0m\u001b[0m\n\u001b[0;32m     23\u001b[0m \u001b[0marr\u001b[0m \u001b[1;33m=\u001b[0m \u001b[1;33m[\u001b[0m\u001b[1;36m9\u001b[0m\u001b[1;33m,\u001b[0m \u001b[1;36m3\u001b[0m\u001b[1;33m,\u001b[0m \u001b[1;36m2\u001b[0m\u001b[1;33m,\u001b[0m \u001b[1;36m5\u001b[0m\u001b[1;33m,\u001b[0m \u001b[1;36m7\u001b[0m\u001b[1;33m,\u001b[0m \u001b[1;36m1\u001b[0m\u001b[1;33m,\u001b[0m \u001b[1;36m10\u001b[0m\u001b[1;33m,\u001b[0m \u001b[1;36m4\u001b[0m\u001b[1;33m,\u001b[0m \u001b[1;36m0\u001b[0m\u001b[1;33m]\u001b[0m\u001b[1;33m\u001b[0m\u001b[0m\n\u001b[1;32m---> 24\u001b[1;33m \u001b[0mquicksort\u001b[0m\u001b[1;33m(\u001b[0m\u001b[0marr\u001b[0m\u001b[1;33m,\u001b[0m \u001b[1;36m0\u001b[0m\u001b[1;33m,\u001b[0m \u001b[1;36m8\u001b[0m\u001b[1;33m)\u001b[0m\u001b[1;33m\u001b[0m\u001b[0m\n\u001b[0m",
      "\u001b[1;32m<ipython-input-19-3d28a686c86f>\u001b[0m in \u001b[0;36mquicksort\u001b[1;34m(A, lo, hi)\u001b[0m\n\u001b[0;32m      3\u001b[0m         \u001b[0mp\u001b[0m \u001b[1;33m=\u001b[0m \u001b[0mpartition\u001b[0m\u001b[1;33m(\u001b[0m\u001b[0mA\u001b[0m\u001b[1;33m,\u001b[0m \u001b[0mlo\u001b[0m\u001b[1;33m,\u001b[0m \u001b[0mhi\u001b[0m\u001b[1;33m)\u001b[0m\u001b[1;33m\u001b[0m\u001b[0m\n\u001b[0;32m      4\u001b[0m         \u001b[0mc\u001b[0m \u001b[1;33m=\u001b[0m \u001b[0mp\u001b[0m\u001b[1;33m-\u001b[0m\u001b[1;36m1\u001b[0m\u001b[1;33m\u001b[0m\u001b[0m\n\u001b[1;32m----> 5\u001b[1;33m         \u001b[0mquicksort\u001b[0m\u001b[1;33m(\u001b[0m\u001b[0mA\u001b[0m\u001b[1;33m,\u001b[0m \u001b[0mlo\u001b[0m\u001b[1;33m,\u001b[0m \u001b[0mc\u001b[0m\u001b[1;33m)\u001b[0m\u001b[1;33m\u001b[0m\u001b[0m\n\u001b[0m\u001b[0;32m      6\u001b[0m         \u001b[0mquicksort\u001b[0m\u001b[1;33m(\u001b[0m\u001b[0mA\u001b[0m\u001b[1;33m,\u001b[0m \u001b[0mp\u001b[0m\u001b[1;33m,\u001b[0m \u001b[0mhi\u001b[0m\u001b[1;33m)\u001b[0m\u001b[1;33m\u001b[0m\u001b[0m\n\u001b[0;32m      7\u001b[0m \u001b[1;32mdef\u001b[0m \u001b[0mpartition\u001b[0m \u001b[1;33m(\u001b[0m\u001b[0mA\u001b[0m\u001b[1;33m,\u001b[0m \u001b[0mlo\u001b[0m\u001b[1;33m,\u001b[0m \u001b[0mhi\u001b[0m\u001b[1;33m)\u001b[0m\u001b[1;33m:\u001b[0m\u001b[1;33m\u001b[0m\u001b[0m\n",
      "... last 1 frames repeated, from the frame below ...\n",
      "\u001b[1;32m<ipython-input-19-3d28a686c86f>\u001b[0m in \u001b[0;36mquicksort\u001b[1;34m(A, lo, hi)\u001b[0m\n\u001b[0;32m      3\u001b[0m         \u001b[0mp\u001b[0m \u001b[1;33m=\u001b[0m \u001b[0mpartition\u001b[0m\u001b[1;33m(\u001b[0m\u001b[0mA\u001b[0m\u001b[1;33m,\u001b[0m \u001b[0mlo\u001b[0m\u001b[1;33m,\u001b[0m \u001b[0mhi\u001b[0m\u001b[1;33m)\u001b[0m\u001b[1;33m\u001b[0m\u001b[0m\n\u001b[0;32m      4\u001b[0m         \u001b[0mc\u001b[0m \u001b[1;33m=\u001b[0m \u001b[0mp\u001b[0m\u001b[1;33m-\u001b[0m\u001b[1;36m1\u001b[0m\u001b[1;33m\u001b[0m\u001b[0m\n\u001b[1;32m----> 5\u001b[1;33m         \u001b[0mquicksort\u001b[0m\u001b[1;33m(\u001b[0m\u001b[0mA\u001b[0m\u001b[1;33m,\u001b[0m \u001b[0mlo\u001b[0m\u001b[1;33m,\u001b[0m \u001b[0mc\u001b[0m\u001b[1;33m)\u001b[0m\u001b[1;33m\u001b[0m\u001b[0m\n\u001b[0m\u001b[0;32m      6\u001b[0m         \u001b[0mquicksort\u001b[0m\u001b[1;33m(\u001b[0m\u001b[0mA\u001b[0m\u001b[1;33m,\u001b[0m \u001b[0mp\u001b[0m\u001b[1;33m,\u001b[0m \u001b[0mhi\u001b[0m\u001b[1;33m)\u001b[0m\u001b[1;33m\u001b[0m\u001b[0m\n\u001b[0;32m      7\u001b[0m \u001b[1;32mdef\u001b[0m \u001b[0mpartition\u001b[0m \u001b[1;33m(\u001b[0m\u001b[0mA\u001b[0m\u001b[1;33m,\u001b[0m \u001b[0mlo\u001b[0m\u001b[1;33m,\u001b[0m \u001b[0mhi\u001b[0m\u001b[1;33m)\u001b[0m\u001b[1;33m:\u001b[0m\u001b[1;33m\u001b[0m\u001b[0m\n",
      "\u001b[1;31mRecursionError\u001b[0m: maximum recursion depth exceeded"
     ]
    }
   ],
   "source": [
    "def quicksort (A, lo, hi):\n",
    "    if lo < hi:\n",
    "        p = partition(A, lo, hi)\n",
    "        c = p-1\n",
    "        quicksort(A, lo, c)\n",
    "        quicksort(A, p, hi)\n",
    "def partition (A, lo, hi):\n",
    "    pivot = get_pivot(A, lo, hi)\n",
    "    i = lo\n",
    "    j = hi    \n",
    "    while i <= j:\n",
    "        while A[i] < pivot:\n",
    "          i += 1 \n",
    "        while A[j] > pivot:\n",
    "          j -= 1 \n",
    "        if i <= j:\n",
    "            A[i], A[j] = A[j], A[i]\n",
    "            i += 1\n",
    "            j -= 1\n",
    "    return i\n",
    "def get_pivot(A, lo, hi):\n",
    "    return hi\n",
    "arr = [9, 3, 2, 5, 7, 1, 10, 4, 0]\n",
    "quicksort(arr, 0, 8)"
   ]
  },
  {
   "cell_type": "markdown",
   "metadata": {},
   "source": [
    "##### Quick sort var.2 (Works)"
   ]
  },
  {
   "cell_type": "code",
   "execution_count": 25,
   "metadata": {},
   "outputs": [
    {
     "name": "stdout",
     "output_type": "stream",
     "text": [
      "[0, 1, 2, 3, 4, 5, 7, 9, 10]\n"
     ]
    }
   ],
   "source": [
    "def sort(array):\n",
    "    less = []\n",
    "    equal = []\n",
    "    greater = []\n",
    "    if len(array) > 1:\n",
    "        pivot = array[0]\n",
    "        for x in array:\n",
    "            if x < pivot:\n",
    "                less.append(x)\n",
    "            if x == pivot:\n",
    "                equal.append(x)\n",
    "            if x > pivot:\n",
    "                greater.append(x)\n",
    "        # Don't forget to return something!\n",
    "        return sort(less)+equal+sort(greater)  # Just use the + operator to join lists\n",
    "    # Note that you want equal ^^^^^ not pivot\n",
    "    else:  # You need to hande the part at the end of the recursion - when you only have one element in your array, just return the array.\n",
    "        return array\n",
    "arr = [9, 3, 2, 5, 7, 1, 10, 4, 0]\n",
    "arr2 = sort(arr)\n",
    "print(arr2)"
   ]
  }
 ],
 "metadata": {
  "kernelspec": {
   "display_name": "Python 3",
   "language": "python",
   "name": "python3"
  },
  "language_info": {
   "codemirror_mode": {
    "name": "ipython",
    "version": 3
   },
   "file_extension": ".py",
   "mimetype": "text/x-python",
   "name": "python",
   "nbconvert_exporter": "python",
   "pygments_lexer": "ipython3",
   "version": "3.6.2"
  }
 },
 "nbformat": 4,
 "nbformat_minor": 2
}
