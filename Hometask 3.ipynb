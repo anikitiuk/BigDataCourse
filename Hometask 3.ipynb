{
 "cells": [
  {
   "cell_type": "markdown",
   "metadata": {},
   "source": [
    "##### Bubble sort"
   ]
  },
  {
   "cell_type": "code",
   "execution_count": null,
   "metadata": {
    "collapsed": true
   },
   "outputs": [],
   "source": [
    "arr = [9, 3, 2, 5, 7, 1, 10, 4, 0]\n",
    "def bsort (ss):\n",
    "    for j in range(len(ss)):\n",
    "        for i in range(len(ss)-1):\n",
    "            if ss[i] > ss[i+1]:\n",
    "                ss[i], ss[i+1] = ss[i+1], ss[i]\n",
    "bsort(arr)\n",
    "print(arr)"
   ]
  },
  {
   "cell_type": "markdown",
   "metadata": {},
   "source": [
    "##### Insertion sort attempts"
   ]
  },
  {
   "cell_type": "code",
   "execution_count": 18,
   "metadata": {},
   "outputs": [
    {
     "name": "stdout",
     "output_type": "stream",
     "text": [
      "[9, 0, 0, 0, 0, 0, 0, 0, 0]\n",
      "[0, 0, 0, 0, 0, 0, 0, 0, 0]\n"
     ]
    }
   ],
   "source": [
    "arr = [9, 3, 2, 5, 7, 1, 10, 4, 0]\n",
    "arr2 = [0]*9\n",
    "arr2[0] = arr[0]\n",
    "print(arr2)\n",
    "def inssort (ss, sssorted):\n",
    "    for j in range(len(ss)):\n",
    "        for i in range(len(ss)-j-1):\n",
    "            if ss[j] > ss[j+i+1]:\n",
    "                for k in range(j):\n",
    "                    if sssorted[k] > ss[j+i+1]:\n",
    "                        sssorted[k] = ss[j+i+1]\n",
    "inssort(arr, arr2)\n",
    "print(arr2)"
   ]
  },
  {
   "cell_type": "code",
   "execution_count": 9,
   "metadata": {},
   "outputs": [
    {
     "name": "stdout",
     "output_type": "stream",
     "text": [
      "[9, 0, 0, 0, 0, 0, 0, 0, 0]\n",
      "9\n",
      "[0, 4, 0, 0, 0, 0, 0, 0, 0]\n"
     ]
    }
   ],
   "source": [
    "arr = [9, 3, 2, 5, 7, 1, 10, 4, 0]\n",
    "arr2 = [0]*9\n",
    "arr2[0] = arr[0]\n",
    "print(arr2)\n",
    "print(len(arr))\n",
    "def inssort (ss, sssorted):\n",
    "    i = 0\n",
    "    j = 0\n",
    "    while i < (len(ss) - 1):\n",
    "        while j < (len(ss) - 1):\n",
    "            if ss[i] != ss[j + 1]:\n",
    "                if ss[i] > ss[j + 1]:\n",
    "                    sssorted[i], sssorted[i + 1] = sssorted[i + 1], sssorted[i]\n",
    "                    sssorted[i] = ss[j + 1]\n",
    "            j += 1\n",
    "        i += 1\n",
    "inssort(arr, arr2)\n",
    "print(arr2)"
   ]
  },
  {
   "cell_type": "code",
   "execution_count": null,
   "metadata": {
    "collapsed": true
   },
   "outputs": [],
   "source": [
    "arr = [9, 3, 2, 5, 7, 1, 10, 4, 0]\n",
    "arr2 = [0]*9\n",
    "arr2[0] = arr[0]\n",
    "print(arr2)\n",
    "print(len(arr))\n",
    "def inssort (ss, sssorted):\n",
    "    i = 0 \n",
    "    j = 0\n",
    "    while i < len(ss):\n",
    "        while j+i < len(ss):\n",
    "            if ss[i] > ss[j]:\n",
    "                ss[i], ss[j] = ss[j], ss[i]\n",
    "                ss[]"
   ]
  },
  {
   "cell_type": "markdown",
   "metadata": {},
   "source": [
    "##### Insertion sort"
   ]
  },
  {
   "cell_type": "code",
   "execution_count": 11,
   "metadata": {},
   "outputs": [
    {
     "name": "stdout",
     "output_type": "stream",
     "text": [
      "[9, 3, 2, 5, 7, 1, 10, 4, 0]\n",
      "[0, 1, 2, 3, 4, 5, 7, 9, 10]\n"
     ]
    }
   ],
   "source": [
    "arr = [9, 3, 2, 5, 7, 1, 10, 4, 0]\n",
    "print(arr)\n",
    "def inssort(ss):\n",
    "    j = 1\n",
    "    while j < len(ss): \n",
    "        key = ss[j]\n",
    "        i = j - 1\n",
    "        while i > -1 and ss[i] > key: \n",
    "            ss[i + 1] = ss[i]\n",
    "            i = i - 1\n",
    "        ss[i+1] = key\n",
    "        j += 1\n",
    "inssort(arr)\n",
    "print(arr)"
   ]
  },
  {
   "cell_type": "code",
   "execution_count": null,
   "metadata": {
    "collapsed": true
   },
   "outputs": [],
   "source": []
  },
  {
   "cell_type": "code",
   "execution_count": null,
   "metadata": {
    "collapsed": true
   },
   "outputs": [],
   "source": []
  }
 ],
 "metadata": {
  "kernelspec": {
   "display_name": "Python 3",
   "language": "python",
   "name": "python3"
  },
  "language_info": {
   "codemirror_mode": {
    "name": "ipython",
    "version": 3
   },
   "file_extension": ".py",
   "mimetype": "text/x-python",
   "name": "python",
   "nbconvert_exporter": "python",
   "pygments_lexer": "ipython3",
   "version": "3.6.2"
  }
 },
 "nbformat": 4,
 "nbformat_minor": 2
}
