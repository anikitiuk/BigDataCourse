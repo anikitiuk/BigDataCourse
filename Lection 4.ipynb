{
 "cells": [
  {
   "cell_type": "markdown",
   "metadata": {},
   "source": [
    "#### Срез строки"
   ]
  },
  {
   "cell_type": "code",
   "execution_count": 2,
   "metadata": {},
   "outputs": [
    {
     "name": "stdout",
     "output_type": "stream",
     "text": [
      "CBMKH\n"
     ]
    }
   ],
   "source": [
    "str1 = \"GHJKLMNBVC\"\n",
    "print(str1[::-2])"
   ]
  },
  {
   "cell_type": "markdown",
   "metadata": {},
   "source": [
    "#### Ввод/вывод"
   ]
  },
  {
   "cell_type": "code",
   "execution_count": 11,
   "metadata": {},
   "outputs": [
    {
     "name": "stdout",
     "output_type": "stream",
     "text": [
      "Введите a=78\n",
      "78 // 5 = 15.0\n",
      "78.0 // 5 = 15.000000\n",
      "78.0 // 5 = 15.0\n"
     ]
    }
   ],
   "source": [
    "a = input(\"Введите a=\")\n",
    "a = float(a)\n",
    "b = a//5\n",
    "print('%i // 5 = %s' % (a, b))\n",
    "print('%(number1)s // 5 = %(sol)f' % {\"number1\": a, \"sol\": b})\n",
    "print('{0} // 5 = {1}'.format(a, b))"
   ]
  },
  {
   "cell_type": "code",
   "execution_count": 12,
   "metadata": {},
   "outputs": [
    {
     "name": "stdout",
     "output_type": "stream",
     "text": [
      "78.0,15.0\n"
     ]
    }
   ],
   "source": [
    "print(a, b, sep=',')"
   ]
  },
  {
   "cell_type": "code",
   "execution_count": null,
   "metadata": {
    "collapsed": true
   },
   "outputs": [],
   "source": []
  }
 ],
 "metadata": {
  "kernelspec": {
   "display_name": "Python 3",
   "language": "python",
   "name": "python3"
  },
  "language_info": {
   "codemirror_mode": {
    "name": "ipython",
    "version": 3
   },
   "file_extension": ".py",
   "mimetype": "text/x-python",
   "name": "python",
   "nbconvert_exporter": "python",
   "pygments_lexer": "ipython3",
   "version": "3.6.2"
  }
 },
 "nbformat": 4,
 "nbformat_minor": 2
}
